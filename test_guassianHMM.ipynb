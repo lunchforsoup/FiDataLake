{
 "cells": [
  {
   "cell_type": "code",
   "execution_count": null,
   "metadata": {},
   "outputs": [],
   "source": [
    "!pip install yfinance\n"
   ]
  },
  {
   "cell_type": "code",
   "execution_count": null,
   "metadata": {},
   "outputs": [],
   "source": [
    "import pandas as pd\n",
    "import numpy as np\n",
    "import yfinance as yf\n",
    "from scipy.stats import gmean\n",
    "\n",
    "import matplotlib.pyplot as plt\n",
    "import seaborn as sns\n",
    "\n",
    "import warnings\n",
    "import gc\n",
    "\n",
    "np.random.seed(42069)\n",
    "warnings.simplefilter('ignore')\n",
    "%matplotlib inline"
   ]
  },
  {
   "cell_type": "code",
   "execution_count": null,
   "metadata": {},
   "outputs": [],
   "source": [
    "\n",
    "params = {\n",
    "    'figure.figsize': (10, 5)\n",
    "     }\n",
    "plt.rcParams.update(params)"
   ]
  },
  {
   "cell_type": "code",
   "execution_count": null,
   "metadata": {},
   "outputs": [],
   "source": [
    "\n",
    "# This will download data from yahoo finance - more than enough for prototyping\n",
    "df = yf.download(\n",
    "        # tickers list or string as well\n",
    "        tickers = \"MGC=F\",\n",
    "        # use \"period\" instead of start/end\n",
    "        # valid periods: 1d,5d,1mo,3mo,6mo,1y,2y,5y,10y,ytd,max\n",
    "        # (optional, default is '1mo')\n",
    "        period = \"5y\",\n",
    "        # fetch data by interval (including intraday if period < 60 days)\n",
    "        # valid intervals: 1m,2m,5m,15m,30m,60m,90m,1h,1d,5d,1wk,1mo,3mo\n",
    "        # (optional, default is '1d')\n",
    "        interval = \"1d\",\n",
    "        # group by ticker (to access via data['SPY'])\n",
    "        # (optional, default is 'column')\n",
    "        group_by = 'ticker',\n",
    "        # adjust all OHLC automatically\n",
    "        # (optional, default is False)\n",
    "        auto_adjust = True,\n",
    "        # download pre/post regular market hours data\n",
    "        # (optional, default is False)\n",
    "        prepost = True,\n",
    "        # use threads for mass downloading? (True/False/Integer)\n",
    "        # (optional, default is True)\n",
    "        threads = True,\n",
    "        # proxy URL scheme use use when downloading?\n",
    "        # (optional, default is None)\n",
    "        proxy = None\n",
    "    )"
   ]
  },
  {
   "cell_type": "code",
   "execution_count": null,
   "metadata": {},
   "outputs": [],
   "source": [
    "df.shape"
   ]
  },
  {
   "cell_type": "code",
   "execution_count": null,
   "metadata": {},
   "outputs": [],
   "source": [
    "\n",
    "df.head()"
   ]
  },
  {
   "cell_type": "code",
   "execution_count": null,
   "metadata": {},
   "outputs": [],
   "source": [
    "\n",
    "df['avg_price'] = gmean(df[['Open', 'High', 'Low', 'Close']], axis=1)"
   ]
  },
  {
   "cell_type": "code",
   "execution_count": null,
   "metadata": {},
   "outputs": [],
   "source": [
    "\n",
    "df.head()"
   ]
  },
  {
   "cell_type": "code",
   "execution_count": null,
   "metadata": {},
   "outputs": [],
   "source": [
    "nullvaluecheck = pd.DataFrame(df.isna().sum().sort_values(ascending=False)*100/df.shape[0],columns=['missing %']).head(60)\n",
    "nullvaluecheck.style.background_gradient(cmap='PuBu')"
   ]
  },
  {
   "cell_type": "code",
   "execution_count": null,
   "metadata": {},
   "outputs": [],
   "source": [
    "\n",
    "returns = np.log(df['Close']).diff()\n",
    "returns.dropna(inplace=True)"
   ]
  },
  {
   "cell_type": "code",
   "execution_count": null,
   "metadata": {},
   "outputs": [],
   "source": [
    "plt.figure()\n",
    "plt.plot(returns)\n",
    "plt.title('Micro Gold Futures Daily Log Returns')\n",
    "plt.xlabel('Timestamp')\n",
    "plt.ylabel('Log Return (%)')\n",
    "plt.tight_layout()\n",
    "\n",
    "plt.figure()\n",
    "plt.hist(returns, bins='auto')\n",
    "plt.title('Micro Gold Futures Daily Log Returns Histogram')\n",
    "plt.ylabel('Frequency')\n",
    "plt.xlabel('Log Return (%)')\n",
    "plt.tight_layout()"
   ]
  },
  {
   "cell_type": "code",
   "execution_count": null,
   "metadata": {},
   "outputs": [],
   "source": [
    "# 70 - 30 Train Test\n",
    "split = int(0.3*len(returns))\n",
    "X = returns[:-split]\n",
    "X_test = returns[-split:]"
   ]
  },
  {
   "cell_type": "code",
   "execution_count": null,
   "metadata": {},
   "outputs": [],
   "source": [
    "plt.plot(X, label='Training Set')\n",
    "plt.plot(X_test, label='Testing Set')\n",
    "plt.title(label='GOLD Testing Set')\n",
    "plt.xlabel('Timestamp')\n",
    "plt.ylabel('Log Return (%)')\n",
    "plt.legend()\n",
    "plt.show()"
   ]
  },
  {
   "cell_type": "code",
   "execution_count": null,
   "metadata": {},
   "outputs": [],
   "source": [
    "# !pip install hmmlearn"
   ]
  },
  {
   "cell_type": "code",
   "execution_count": null,
   "metadata": {},
   "outputs": [],
   "source": [
    "from hmmlearn import hmm"
   ]
  },
  {
   "cell_type": "code",
   "execution_count": null,
   "metadata": {},
   "outputs": [],
   "source": [
    "X = X.to_numpy().reshape(-1, 1)\n",
    "X_test = X_test.to_numpy().reshape(-1, 1)"
   ]
  },
  {
   "cell_type": "code",
   "execution_count": null,
   "metadata": {},
   "outputs": [],
   "source": [
    "\n",
    "model = hmm.GaussianHMM(\n",
    "    # 2 States\n",
    "    n_components=2,\n",
    "    covariance_type=\"diag\",\n",
    "    verbose=True\n",
    ")"
   ]
  },
  {
   "cell_type": "code",
   "execution_count": null,
   "metadata": {},
   "outputs": [],
   "source": [
    "%%time\n",
    "model.fit(X)"
   ]
  },
  {
   "cell_type": "code",
   "execution_count": null,
   "metadata": {},
   "outputs": [],
   "source": [
    "# Adjust the probabilities for transitioning states\n",
    "model.transmat_ = np.array(\n",
    "    [\n",
    "        [0.9, 0.1],\n",
    "        [0.1, 0.9]\n",
    "    ]\n",
    ")"
   ]
  },
  {
   "cell_type": "code",
   "execution_count": null,
   "metadata": {},
   "outputs": [],
   "source": [
    "Z = model.predict(X_test)\n",
    "Z_train = model.predict(X)"
   ]
  },
  {
   "cell_type": "code",
   "execution_count": null,
   "metadata": {},
   "outputs": [],
   "source": [
    "\n",
    "# Compute State Changes\n",
    "returns_train0 = np.empty(len(Z_train))\n",
    "returns_train1 = np.empty(len(Z_train))\n",
    "returns_train0[:] = np.nan\n",
    "returns_train1[:] = np.nan\n",
    "\n",
    "# Create series for each state change\n",
    "returns_train0[Z_train == 0] = returns[:-split][Z_train == 0]\n",
    "returns_train1[Z_train == 1] = returns[:-split][Z_train == 1]\n",
    "\n",
    "\n",
    "fig, ax = plt.subplots(figsize=(12,8))\n",
    "\n",
    "# Plot the Volatility Regime and the states\n",
    "plt.subplot(211)\n",
    "plt.plot(Z)\n",
    "plt.title(label='GOLD Training Volatility Regime')\n",
    "\n",
    "plt.subplot(212)\n",
    "plt.plot(returns_train0, label='State_0 (Low Volatility)', color='b')\n",
    "plt.plot(returns_train1, label='State_1 (High Volatility)', color='r', )\n",
    "plt.title(label='GOLD Training Volatility Clusters')\n",
    "plt.legend()\n",
    "plt.tight_layout()"
   ]
  },
  {
   "cell_type": "code",
   "execution_count": null,
   "metadata": {},
   "outputs": [],
   "source": [
    "\n",
    "# Compute State Changes\n",
    "returns0 = np.empty(len(Z))\n",
    "returns1 = np.empty(len(Z))\n",
    "returns0[:] = np.nan\n",
    "returns1[:] = np.nan\n",
    "\n",
    "# Create series for each state change\n",
    "returns0[Z == 0] = returns[-split:][Z == 0]\n",
    "returns1[Z == 1] = returns[-split:][Z == 1]\n",
    "\n",
    "# Plot the Volatility Regime and the states\n",
    "fig, ax = plt.subplots(figsize=(12,8))\n",
    "\n",
    "plt.subplot(211)\n",
    "plt.plot(Z)\n",
    "plt.title(label='GOLD Volatility Regime')\n",
    "\n",
    "plt.subplot(212)\n",
    "plt.plot(returns0, label='State_0 (Low Volatility)', color='b')\n",
    "plt.plot(returns1, label='State_1 (High Volatility)', color='r')\n",
    "plt.title(label='GOLD Volatility Clusters')\n",
    "\n",
    "plt.legend()\n",
    "plt.tight_layout()"
   ]
  },
  {
   "cell_type": "code",
   "execution_count": null,
   "metadata": {},
   "outputs": [],
   "source": []
  },
  {
   "cell_type": "code",
   "execution_count": null,
   "metadata": {},
   "outputs": [],
   "source": []
  },
  {
   "cell_type": "code",
   "execution_count": null,
   "metadata": {},
   "outputs": [],
   "source": []
  }
 ],
 "metadata": {
  "kernelspec": {
   "display_name": "Python 3 (ipykernel)",
   "language": "python",
   "name": "python3"
  },
  "language_info": {
   "codemirror_mode": {
    "name": "ipython",
    "version": 3
   },
   "file_extension": ".py",
   "mimetype": "text/x-python",
   "name": "python",
   "nbconvert_exporter": "python",
   "pygments_lexer": "ipython3",
   "version": "3.9.7"
  }
 },
 "nbformat": 4,
 "nbformat_minor": 4
}
