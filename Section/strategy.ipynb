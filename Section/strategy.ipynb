{
 "cells": [
  {
   "cell_type": "code",
   "execution_count": 5,
   "metadata": {},
   "outputs": [],
   "source": [
    "from pyexpat import model\n",
    "import pandas as pd\n",
    "import numpy as np\n",
    "import scipy.stats as stats\n",
    "import matplotlib.pyplot as plt\n",
    "import seaborn as sns\n",
    "import warnings\n",
    "import gc\n",
    "import yfinance as yf\n",
    "from scipy.stats import gmean\n",
    "import dataclasses as dc"
   ]
  },
  {
   "cell_type": "code",
   "execution_count": 2,
   "metadata": {},
   "outputs": [],
   "source": [
    "\n",
    "def stocklist(func):\n",
    "       def fetchstocks():\n",
    "                tickerStrings = ['spy', 'MSFT']\n",
    "                func(tickerStrings)\n",
    "       return fetchstocks\n",
    "\n",
    "\n",
    "       \n",
    "@stocklist\n",
    "def get_data(stocks):\n",
    "       df_list = list()\n",
    "       for i in stocks :\n",
    "           data = yf.download(i, group_by=\"Ticker\")\n",
    "           data['ticker'] = i\n",
    "           df_list.append(data)\n",
    "       df1 = pd.concat(df_list)\n",
    "       return df1\n",
    "\n"
   ]
  },
  {
   "cell_type": "code",
   "execution_count": 6,
   "metadata": {},
   "outputs": [
    {
     "name": "stdout",
     "output_type": "stream",
     "text": [
      "[*********************100%***********************]  1 of 1 completed\n",
      "[*********************100%***********************]  1 of 1 completed\n"
     ]
    }
   ],
   "source": [
    "\n",
    "df=get_data()"
   ]
  },
  {
   "cell_type": "code",
   "execution_count": 10,
   "metadata": {},
   "outputs": [
    {
     "name": "stderr",
     "output_type": "stream",
     "text": [
      "<>:14: SyntaxWarning: 'float' object is not callable; perhaps you missed a comma?\n",
      "<>:14: SyntaxWarning: 'float' object is not callable; perhaps you missed a comma?\n",
      "C:\\Users\\johnf\\AppData\\Local\\Temp\\ipykernel_18772\\4106877139.py:14: SyntaxWarning: 'float' object is not callable; perhaps you missed a comma?\n",
      "  data['Filter01'] = np.abs(data.open - data.close.shift(1))>(0.75(data.high-data.low).shift(1))\n"
     ]
    }
   ],
   "source": [
    "#create strategy for qqq using unbounded dv\n",
    "\n",
    "def strategy7(df):\n",
    "    data = df\n",
    "    \n",
    "    LenTrd = 20\n",
    "    days1 = 5\n",
    "    days2 = 4\n",
    "\n",
    "    data['UnboundedDV2'] = (data.close/((data.high.rolling(LenTrd).max()+data.low.rolling(LenTrd).min())/2)).rolling(days1).mean()-1\n",
    "    data['DV2Bounded'] = data.UnboundedDV2.rolling(252).rank(pct=True)\n",
    "    data['MarkInd01flag'] = np.where(data.DV2Bounded < data.DV2Bounded.shift(1), 1, 0)\n",
    "    data['MarkInd01'] =data.MarkInd01flag.rolling(days2).sum() == days2\n",
    "    data['Filter01'] = np.abs(data.open - data.close.shift(1))>(0.75(data.high-data.low).shift(1))\n",
    "    data['BUY'] = data.MarkInd01 & data.Filter01\n",
    "    data['SELL'] = data.close > data.high.rolling(5).mean()\n",
    "\n",
    "    return data\n",
    "\n"
   ]
  },
  {
   "cell_type": "code",
   "execution_count": 11,
   "metadata": {},
   "outputs": [
    {
     "name": "stderr",
     "output_type": "stream",
     "text": [
      "C:\\Users\\johnf\\AppData\\Local\\Temp\\ipykernel_18772\\4106877139.py:14: SyntaxWarning: 'float' object is not callable; perhaps you missed a comma?\n",
      "  data['Filter01'] = np.abs(data.open - data.close.shift(1))>(0.75(data.high-data.low).shift(1))\n",
      "C:\\Users\\johnf\\AppData\\Local\\Temp\\ipykernel_18772\\4106877139.py:14: SyntaxWarning: 'float' object is not callable; perhaps you missed a comma?\n",
      "  data['Filter01'] = np.abs(data.open - data.close.shift(1))>(0.75(data.high-data.low).shift(1))\n"
     ]
    },
    {
     "ename": "AttributeError",
     "evalue": "'DataFrame' object has no attribute 'close'",
     "output_type": "error",
     "traceback": [
      "\u001b[1;31m---------------------------------------------------------------------------\u001b[0m",
      "\u001b[1;31mAttributeError\u001b[0m                            Traceback (most recent call last)",
      "\u001b[1;32mc:\\GIT\\FiDataLake\\Section\\strategy.ipynb Cell 5'\u001b[0m in \u001b[0;36m<cell line: 1>\u001b[1;34m()\u001b[0m\n\u001b[1;32m----> <a href='vscode-notebook-cell:/c%3A/GIT/FiDataLake/Section/strategy.ipynb#ch0000004?line=0'>1</a>\u001b[0m df1\u001b[39m=\u001b[39mstrategy7(df)\n",
      "\u001b[1;32mc:\\GIT\\FiDataLake\\Section\\strategy.ipynb Cell 4'\u001b[0m in \u001b[0;36mstrategy7\u001b[1;34m(df)\u001b[0m\n\u001b[0;32m      <a href='vscode-notebook-cell:/c%3A/GIT/FiDataLake/Section/strategy.ipynb#ch0000000?line=6'>7</a>\u001b[0m days1 \u001b[39m=\u001b[39m \u001b[39m5\u001b[39m\n\u001b[0;32m      <a href='vscode-notebook-cell:/c%3A/GIT/FiDataLake/Section/strategy.ipynb#ch0000000?line=7'>8</a>\u001b[0m days2 \u001b[39m=\u001b[39m \u001b[39m4\u001b[39m\n\u001b[1;32m---> <a href='vscode-notebook-cell:/c%3A/GIT/FiDataLake/Section/strategy.ipynb#ch0000000?line=9'>10</a>\u001b[0m data[\u001b[39m'\u001b[39m\u001b[39mUnboundedDV2\u001b[39m\u001b[39m'\u001b[39m] \u001b[39m=\u001b[39m (data\u001b[39m.\u001b[39;49mclose\u001b[39m/\u001b[39m((data\u001b[39m.\u001b[39mhigh\u001b[39m.\u001b[39mrolling(LenTrd)\u001b[39m.\u001b[39mmax()\u001b[39m+\u001b[39mdata\u001b[39m.\u001b[39mlow\u001b[39m.\u001b[39mrolling(LenTrd)\u001b[39m.\u001b[39mmin())\u001b[39m/\u001b[39m\u001b[39m2\u001b[39m))\u001b[39m.\u001b[39mrolling(days1)\u001b[39m.\u001b[39mmean()\u001b[39m-\u001b[39m\u001b[39m1\u001b[39m\n\u001b[0;32m     <a href='vscode-notebook-cell:/c%3A/GIT/FiDataLake/Section/strategy.ipynb#ch0000000?line=10'>11</a>\u001b[0m data[\u001b[39m'\u001b[39m\u001b[39mDV2Bounded\u001b[39m\u001b[39m'\u001b[39m] \u001b[39m=\u001b[39m data\u001b[39m.\u001b[39mUnboundedDV2\u001b[39m.\u001b[39mrolling(\u001b[39m252\u001b[39m)\u001b[39m.\u001b[39mrank(pct\u001b[39m=\u001b[39m\u001b[39mTrue\u001b[39;00m)\n\u001b[0;32m     <a href='vscode-notebook-cell:/c%3A/GIT/FiDataLake/Section/strategy.ipynb#ch0000000?line=11'>12</a>\u001b[0m data[\u001b[39m'\u001b[39m\u001b[39mMarkInd01flag\u001b[39m\u001b[39m'\u001b[39m] \u001b[39m=\u001b[39m np\u001b[39m.\u001b[39mwhere(data\u001b[39m.\u001b[39mDV2Bounded \u001b[39m<\u001b[39m data\u001b[39m.\u001b[39mDV2Bounded\u001b[39m.\u001b[39mshift(\u001b[39m1\u001b[39m), \u001b[39m1\u001b[39m, \u001b[39m0\u001b[39m)\n",
      "File \u001b[1;32mc:\\GIT\\FiDataLake\\env-02\\lib\\site-packages\\pandas\\core\\generic.py:5487\u001b[0m, in \u001b[0;36mNDFrame.__getattr__\u001b[1;34m(self, name)\u001b[0m\n\u001b[0;32m   5480\u001b[0m \u001b[39mif\u001b[39;00m (\n\u001b[0;32m   5481\u001b[0m     name \u001b[39mnot\u001b[39;00m \u001b[39min\u001b[39;00m \u001b[39mself\u001b[39m\u001b[39m.\u001b[39m_internal_names_set\n\u001b[0;32m   5482\u001b[0m     \u001b[39mand\u001b[39;00m name \u001b[39mnot\u001b[39;00m \u001b[39min\u001b[39;00m \u001b[39mself\u001b[39m\u001b[39m.\u001b[39m_metadata\n\u001b[0;32m   5483\u001b[0m     \u001b[39mand\u001b[39;00m name \u001b[39mnot\u001b[39;00m \u001b[39min\u001b[39;00m \u001b[39mself\u001b[39m\u001b[39m.\u001b[39m_accessors\n\u001b[0;32m   5484\u001b[0m     \u001b[39mand\u001b[39;00m \u001b[39mself\u001b[39m\u001b[39m.\u001b[39m_info_axis\u001b[39m.\u001b[39m_can_hold_identifiers_and_holds_name(name)\n\u001b[0;32m   5485\u001b[0m ):\n\u001b[0;32m   5486\u001b[0m     \u001b[39mreturn\u001b[39;00m \u001b[39mself\u001b[39m[name]\n\u001b[1;32m-> 5487\u001b[0m \u001b[39mreturn\u001b[39;00m \u001b[39mobject\u001b[39;49m\u001b[39m.\u001b[39;49m\u001b[39m__getattribute__\u001b[39;49m(\u001b[39mself\u001b[39;49m, name)\n",
      "\u001b[1;31mAttributeError\u001b[0m: 'DataFrame' object has no attribute 'close'"
     ]
    }
   ],
   "source": [
    "df1=strategy7(df)"
   ]
  }
 ],
 "metadata": {
  "kernelspec": {
   "display_name": "Python 3.10.5 ('env-02': venv)",
   "language": "python",
   "name": "python3"
  },
  "language_info": {
   "codemirror_mode": {
    "name": "ipython",
    "version": 3
   },
   "file_extension": ".py",
   "mimetype": "text/x-python",
   "name": "python",
   "nbconvert_exporter": "python",
   "pygments_lexer": "ipython3",
   "version": "3.10.5 (tags/v3.10.5:f377153, Jun  6 2022, 16:14:13) [MSC v.1929 64 bit (AMD64)]"
  },
  "orig_nbformat": 4,
  "vscode": {
   "interpreter": {
    "hash": "12b0d2ba476c2fa43205b7d45106c4dce2bf1131b40f47a448f81f8faedfba45"
   }
  }
 },
 "nbformat": 4,
 "nbformat_minor": 2
}
