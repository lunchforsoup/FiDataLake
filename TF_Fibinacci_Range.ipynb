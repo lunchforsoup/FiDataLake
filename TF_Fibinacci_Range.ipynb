{
 "cells": [
  {
   "cell_type": "code",
   "execution_count": null,
   "metadata": {},
   "outputs": [],
   "source": [
    "\n",
    "# Base Parameters\n",
    "assets           = asset_list('FX') \n",
    "\n",
    "# Trading Parameters   \n",
    "horizon = 'H1'\n",
    "pair    = 11\n",
    "\n",
    "# Mass Imports \n",
    "my_data = mass_import(pair, horizon)\n",
    "\n",
    "my_data = fibonacci_range(my_data, 1, 2, 4)\n",
    "\n",
    "def ohlc_plot_candles(Data, window):\n",
    "      \n",
    "    Chosen = Data[-window:, ]\n",
    "    \n",
    "    for i in range(len(Chosen)):\n",
    "        \n",
    "        if Chosen[i, 4] > 0:\n",
    "            \n",
    "            plt.vlines(x = i, ymin = Chosen[i, 2], ymax = Chosen[i, 1], color = 'green', linewidth = 1)\n",
    "            plt.vlines(x = i, ymin = Chosen[i, 0], ymax = Chosen[i, 3], color = 'green', linewidth = 1) \n",
    "            \n",
    "        if Chosen[i, 4] < 0:\n",
    "            \n",
    "            plt.vlines(x = i, ymin = Chosen[i, 2], ymax = Chosen[i, 1], color = 'red', linewidth = 1)\n",
    "            plt.vlines(x = i, ymin = Chosen[i, 3], ymax = Chosen[i, 0], color = 'red', linewidth = 1)  \n",
    "\n",
    "        if Chosen[i, 4] == 0:\n",
    "            \n",
    "            plt.vlines(x = i, ymin = Chosen[i, 2], ymax = Chosen[i, 1], color = 'black', linewidth = 1)\n",
    "            plt.vlines(x = i, ymin = Chosen[i, 3], ymax = Chosen[i, 0], color = 'black', linewidth = 1)\n",
    "            \n",
    "    plt.grid()\n",
    "    \n",
    "ohlc_plot_candles(my_data, 250)"
   ]
  }
 ],
 "metadata": {
  "kernelspec": {
   "display_name": "Python 3 (ipykernel)",
   "language": "python",
   "name": "python3"
  },
  "language_info": {
   "codemirror_mode": {
    "name": "ipython",
    "version": 3
   },
   "file_extension": ".py",
   "mimetype": "text/x-python",
   "name": "python",
   "nbconvert_exporter": "python",
   "pygments_lexer": "ipython3",
   "version": "3.9.7"
  }
 },
 "nbformat": 4,
 "nbformat_minor": 4
}
