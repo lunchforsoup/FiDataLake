{
 "cells": [
  {
   "cell_type": "code",
   "execution_count": 1,
   "metadata": {},
   "outputs": [
    {
     "name": "stdout",
     "output_type": "stream",
     "text": [
      "Inside wrapper.\n",
      "Hello, World!\n"
     ]
    }
   ],
   "source": [
    "def myWrapper(func):\n",
    "  def myInnerFunc():\n",
    "    print(\"Inside wrapper.\")\n",
    "    func()\n",
    "  return myInnerFunc\n",
    " \n",
    "def myFunc():\n",
    "  print(\"Hello, World!\")\n",
    "\n",
    "c=myWrapper(myFunc)\n",
    "c()"
   ]
  },
  {
   "cell_type": "code",
   "execution_count": 2,
   "metadata": {},
   "outputs": [
    {
     "name": "stdout",
     "output_type": "stream",
     "text": [
      "Inside wrapper.\n",
      "Hello, World!\n"
     ]
    }
   ],
   "source": [
    "def myWrapper(func):\n",
    "  def myInnerFunc():\n",
    "    print(\"Inside wrapper.\")\n",
    "    func()\n",
    "  return myInnerFunc\n",
    " \n",
    "@myWrapper\n",
    "def myFunc():\n",
    "  print(\"Hello, World!\")\n",
    "\n",
    "myFunc()"
   ]
  },
  {
   "cell_type": "code",
   "execution_count": 3,
   "metadata": {},
   "outputs": [
    {
     "name": "stdout",
     "output_type": "stream",
     "text": [
      "Addition of two numbers= 41\n"
     ]
    }
   ],
   "source": [
    "def decorateFun(func): \n",
    "    def sumOfSquare(x, y): \n",
    "        return func(x**2, y**2) \n",
    "    return sumOfSquare \n",
    "\n",
    "@decorateFun\n",
    "def addTwoNumbers(a, b): \n",
    "    c = a+b \n",
    "    return c \n",
    "\n",
    "c = addTwoNumbers(4,5) \n",
    "print(\"Addition of two numbers=\", c)"
   ]
  },
  {
   "cell_type": "code",
   "execution_count": 4,
   "metadata": {},
   "outputs": [
    {
     "data": {
      "text/plain": [
       "16"
      ]
     },
     "execution_count": 4,
     "metadata": {},
     "output_type": "execute_result"
    }
   ],
   "source": [
    "4**2"
   ]
  }
 ],
 "metadata": {
  "kernelspec": {
   "display_name": "Python 3.10.5 ('env-02': venv)",
   "language": "python",
   "name": "python3"
  },
  "language_info": {
   "codemirror_mode": {
    "name": "ipython",
    "version": 3
   },
   "file_extension": ".py",
   "mimetype": "text/x-python",
   "name": "python",
   "nbconvert_exporter": "python",
   "pygments_lexer": "ipython3",
   "version": "3.10.5 (tags/v3.10.5:f377153, Jun  6 2022, 16:14:13) [MSC v.1929 64 bit (AMD64)]"
  },
  "orig_nbformat": 4,
  "vscode": {
   "interpreter": {
    "hash": "12b0d2ba476c2fa43205b7d45106c4dce2bf1131b40f47a448f81f8faedfba45"
   }
  }
 },
 "nbformat": 4,
 "nbformat_minor": 2
}
