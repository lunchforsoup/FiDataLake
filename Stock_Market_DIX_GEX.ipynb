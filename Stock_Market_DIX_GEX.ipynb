{
 "cells": [
  {
   "cell_type": "code",
   "execution_count": 3,
   "metadata": {},
   "outputs": [],
   "source": [
    "#Importing Libraries\n",
    "import pandas as pd\n",
    "import numpy  as np\n",
    "from selenium import webdriver\n",
    "\n",
    "#--- fetch DIX\n",
    "\n",
    "# Calling Chrome\n",
    "driver = webdriver.Chrome('C:/Users/johnf/chromedriver_win32/chromedriver.exe')\n",
    "# URL of the Website from Where to Download the Data\n",
    "url = \"https://squeezemetrics.com/monitor/dix\"\n",
    " \n",
    "# Opening the website\n",
    "driver.get(url)\n",
    " \n",
    "# Getting the button by ID \n",
    "button = driver.find_element_by_id(\"fileRequest\")\n",
    "\n",
    "# Clicking on the button\n",
    "button.click()\n",
    "\n",
    "#------ Fetch Gex\n",
    "    "
   ]
  },
  {
   "cell_type": "code",
   "execution_count": null,
   "metadata": {},
   "outputs": [],
   "source": []
  }
 ],
 "metadata": {
  "kernelspec": {
   "display_name": "Python 3 (ipykernel)",
   "language": "python",
   "name": "python3"
  },
  "language_info": {
   "codemirror_mode": {
    "name": "ipython",
    "version": 3
   },
   "file_extension": ".py",
   "mimetype": "text/x-python",
   "name": "python",
   "nbconvert_exporter": "python",
   "pygments_lexer": "ipython3",
   "version": "3.9.7"
  }
 },
 "nbformat": 4,
 "nbformat_minor": 4
}
