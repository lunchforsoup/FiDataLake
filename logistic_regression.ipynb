{
 "cells": [
  {
   "cell_type": "code",
   "execution_count": null,
   "metadata": {},
   "outputs": [],
   "source": [
    "#logistic regression class\n",
    "\n",
    "import numpy as np\n",
    "\n",
    "def sigmoid(x):\n",
    "    return 1/(1+np.exp(-x))\n",
    "\n",
    "class LogisticRegression:\n",
    "    def __init__(self, learning_rate=0.01, n_iters=100):\n",
    "        self.learning_rate = learning_rate\n",
    "        self.n_iters = n_iters\n",
    "        self.weights = None\n",
    "        self.bias = None\n",
    "    \n",
    "    def fit(self, X, y):\n",
    "        x_samples, n_features = X.shape\n",
    "\n",
    "        self.weights = np.zeros(n_features)\n",
    "        self.bias = 0\n",
    "\n",
    "        for _ in range(self.n_iters):\n",
    "            #y' = xw + b\n",
    "            y_predictied = np.dot(X, self.weights) + self.bias\n",
    "            #apply sigmoid function to y_predictied\n",
    "            y_predictied = sigmoid(y_predictied)\n",
    "\n",
    "            #compute gradients\n",
    "            dw = (1/x_samples) * np.dot(X.T, (y_predictied - y))\n",
    "            db = (1/x_samples) * np.sum(y_predictied - y)\n",
    "            #update weights and bias\n",
    "\n",
    "            self.weights -= self.learning_rate * dw\n",
    "            self.bias -= self.learning_rate * db\n",
    "\n",
    "    def predict(self, X):\n",
    "        y_predictied = np.dot(X, self.weights) + self.bias\n",
    "        y_predictied = sigmoid(y_predictied)\n",
    "        #convert y_predictied to 0 or 1\n",
    "        y_predictied = np.round(y_predictied)\n",
    "        return np.array(y_predictied).astype(int)\n",
    "\n"
   ]
  }
 ],
 "metadata": {
  "kernelspec": {
   "display_name": "Python 3.10.5 ('env-02': venv)",
   "language": "python",
   "name": "python3"
  },
  "language_info": {
   "name": "python",
   "version": "3.10.5 (tags/v3.10.5:f377153, Jun  6 2022, 16:14:13) [MSC v.1929 64 bit (AMD64)]"
  },
  "orig_nbformat": 4,
  "vscode": {
   "interpreter": {
    "hash": "12b0d2ba476c2fa43205b7d45106c4dce2bf1131b40f47a448f81f8faedfba45"
   }
  }
 },
 "nbformat": 4,
 "nbformat_minor": 2
}
