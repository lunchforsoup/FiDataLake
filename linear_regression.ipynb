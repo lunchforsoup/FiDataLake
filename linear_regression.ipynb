{
 "cells": [
  {
   "cell_type": "code",
   "execution_count": null,
   "metadata": {},
   "outputs": [],
   "source": [
    "# linear regression with numpy\n",
    "\n",
    "import numpy as np\n",
    "\n",
    "class LinearRegression:\n",
    "    def __init__(self, learning_rate=0.01, iterations=100):\n",
    "        self.learning_rate = learning_rate\n",
    "        self.iterations = iterations\n",
    "        self.weights = None\n",
    "        self.bias = None\n",
    "    \n",
    "    def fit(self, X, y):\n",
    "        self.weights = np.zeros(1 + X.shape[1])\n",
    "        self.bias = 0\n",
    "        for _ in range(self.iterations):\n",
    "            output = self.forward(X)\n",
    "            error = y - output\n",
    "            gradient = self.backward(X, error)\n",
    "            self.weights += self.learning_rate * gradient\n",
    "            self.bias += self.learning_rate * error"
   ]
  }
 ],
 "metadata": {
  "kernelspec": {
   "display_name": "Python 3.10.5 ('env-02': venv)",
   "language": "python",
   "name": "python3"
  },
  "language_info": {
   "name": "python",
   "version": "3.10.5 (tags/v3.10.5:f377153, Jun  6 2022, 16:14:13) [MSC v.1929 64 bit (AMD64)]"
  },
  "orig_nbformat": 4,
  "vscode": {
   "interpreter": {
    "hash": "12b0d2ba476c2fa43205b7d45106c4dce2bf1131b40f47a448f81f8faedfba45"
   }
  }
 },
 "nbformat": 4,
 "nbformat_minor": 2
}
