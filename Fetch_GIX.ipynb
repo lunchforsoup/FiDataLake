{
 "cells": [
  {
   "cell_type": "code",
   "execution_count": 8,
   "id": "62060465",
   "metadata": {},
   "outputs": [
    {
     "name": "stderr",
     "output_type": "stream",
     "text": [
      "C:\\Users\\johnf\\anaconda4\\lib\\site-packages\\urllib3\\connectionpool.py:1013: InsecureRequestWarning: Unverified HTTPS request is being made to host 'squeezemetrics.com'. Adding certificate verification is strongly advised. See: https://urllib3.readthedocs.io/en/1.26.x/advanced-usage.html#ssl-warnings\n",
      "  warnings.warn(\n"
     ]
    },
    {
     "name": "stdout",
     "output_type": "stream",
     "text": [
      "Success\n"
     ]
    }
   ],
   "source": [
    "import requests\n",
    "import shutil\n",
    "def callme():\n",
    "    url = \"https://squeezemetrics.com/monitor/download/SPX.csv\"\n",
    "    r = requests.get(url, verify=False,stream=True)\n",
    "    if r.status_code!=200:\n",
    "        print (\"Failure!!\")\n",
    "        exit()\n",
    "    else:\n",
    "        r.raw.decode_content = True\n",
    "        with open(\"SPX.csv\", 'wb') as f:\n",
    "            shutil.copyfileobj(r.raw, f)\n",
    "        print (\"Success\")\n",
    "\n",
    "if __name__ == '__main__':\n",
    "    callme()\n"
   ]
  },
  {
   "cell_type": "code",
   "execution_count": 9,
   "id": "66643ee7",
   "metadata": {},
   "outputs": [
    {
     "name": "stderr",
     "output_type": "stream",
     "text": [
      "C:\\Users\\johnf\\anaconda4\\lib\\site-packages\\urllib3\\connectionpool.py:1013: InsecureRequestWarning: Unverified HTTPS request is being made to host 'squeezemetrics.com'. Adding certificate verification is strongly advised. See: https://urllib3.readthedocs.io/en/1.26.x/advanced-usage.html#ssl-warnings\n",
      "  warnings.warn(\n"
     ]
    },
    {
     "name": "stdout",
     "output_type": "stream",
     "text": [
      "Success\n"
     ]
    }
   ],
   "source": [
    "callme()\n",
    "\n",
    "print('all done')\n",
    "\n",
    "return"
   ]
  }
 ],
 "metadata": {
  "kernelspec": {
   "display_name": "Python 3 (ipykernel)",
   "language": "python",
   "name": "python3"
  },
  "language_info": {
   "codemirror_mode": {
    "name": "ipython",
    "version": 3
   },
   "file_extension": ".py",
   "mimetype": "text/x-python",
   "name": "python",
   "nbconvert_exporter": "python",
   "pygments_lexer": "ipython3",
   "version": "3.9.7"
  }
 },
 "nbformat": 4,
 "nbformat_minor": 5
}
